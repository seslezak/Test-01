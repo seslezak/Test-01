{
 "cells": [
  {
   "cell_type": "markdown",
   "metadata": {},
   "source": [
    "# Final Exam Notebook\n",
    "### Steven Slezak\n",
    "### 29 Jan 2018"
   ]
  },
  {
   "cell_type": "markdown",
   "metadata": {},
   "source": [
    "### AWS Launch Instance"
   ]
  },
  {
   "cell_type": "markdown",
   "metadata": {},
   "source": [
    "![AWS Launch Instance](https://github.com/seslezak/Test-01/blob/master/AWS%20Launch.jpg)"
   ]
  },
  {
   "cell_type": "code",
   "execution_count": 1,
   "metadata": {
    "collapsed": true
   },
   "outputs": [
    {
     "name": "stdout",
     "output_type": "stream",
     "text": [
      " [1] \"USER       PID %CPU %MEM    VSZ   RSS TTY      STAT START   TIME COMMAND\"                                                                                                                                                  \n",
      " [2] \"jovyan       1  0.0  0.0   4372    72 ?        Ss   Jan28   0:02 tini -- start-notebook.sh\"                                                                                                                                \n",
      " [3] \"jovyan       5  0.1  5.9 362860 60684 ?        Sl   Jan28   1:35 /opt/conda/bin/python /opt/conda/bin/jupyter-notebook\"                                                                                                    \n",
      " [4] \"jovyan      27  0.0  3.5 252308 36444 ?        Ssl  Jan28   0:00 /opt/conda/lib/R/bin/exec/R --slave -e IRkernel::main() --args /home/jovyan/.local/share/jupyter/runtime/kernel-7866b308-118a-433f-af58-a37daaa5356d.json\"\n",
      " [5] \"jovyan      40  0.0  3.6 252316 36984 ?        Ssl  Jan28   0:00 /opt/conda/lib/R/bin/exec/R --slave -e IRkernel::main() --args /home/jovyan/.local/share/jupyter/runtime/kernel-ab37b50c-a6f7-4e08-911d-d1b4997572cd.json\"\n",
      " [6] \"jovyan      51  0.0  4.9 332112 50636 ?        Ssl  Jan28   0:01 /opt/conda/lib/R/bin/exec/R --slave -e IRkernel::main() --args /home/jovyan/.local/share/jupyter/runtime/kernel-a9d7cb01-f9b5-4cb5-aeb0-824466f2416a.json\"\n",
      " [7] \"jovyan      80  0.0  3.5 252312 35580 ?        Ssl  Jan28   0:00 /opt/conda/lib/R/bin/exec/R --slave -e IRkernel::main() --args /home/jovyan/.local/share/jupyter/runtime/kernel-ac454e5c-3817-4ff0-8530-5cc052e0d1cd.json\"\n",
      " [8] \"jovyan      93  0.2 12.2 475640 124564 ?       Ssl  01:51   2:41 /opt/conda/lib/R/bin/exec/R --slave -e IRkernel::main() --args /home/jovyan/.local/share/jupyter/runtime/kernel-adc5690d-9bdd-4261-9ed0-43e1270b9ac4.json\"\n",
      " [9] \"jovyan     632  0.0  3.5 252312 35584 ?        Ssl  05:57   0:00 /opt/conda/lib/R/bin/exec/R --slave -e IRkernel::main() --args /home/jovyan/.local/share/jupyter/runtime/kernel-29faf8ba-0269-46ae-a889-d4d86d0df01d.json\"\n",
      "[10] \"jovyan     643  0.1 14.8 481896 151144 ?       Ssl  06:00   1:25 /opt/conda/lib/R/bin/exec/R --slave -e IRkernel::main() --args /home/jovyan/.local/share/jupyter/runtime/kernel-17465ce6-37ab-477e-9185-6b3ea56adc92.json\"\n",
      "[11] \"jovyan     654  0.0  4.9 319836 50468 ?        Ssl  06:02   0:00 /opt/conda/lib/R/bin/exec/R --slave -e IRkernel::main() --args /home/jovyan/.local/share/jupyter/runtime/kernel-4ce341e5-6b2d-4359-82c7-3539110c60e9.json\"\n",
      "[12] \"jovyan     704  0.1  4.7 252312 48616 ?        Ssl  20:17   0:00 /opt/conda/lib/R/bin/exec/R --slave -e IRkernel::main() --args /home/jovyan/.local/share/jupyter/runtime/kernel-0aeb8b76-e2d6-4e46-b087-ead32888bd13.json\"\n",
      "[13] \"jovyan     715  0.0  0.0   4512   848 ?        S    20:26   0:00 sh -c ps -aux\"                                                                                                                                            \n",
      "[14] \"jovyan     716  0.0  0.3  36088  3128 ?        R    20:26   0:00 ps -aux\"                                                                                                                                                  \n"
     ]
    }
   ],
   "source": [
    "print(system(\"ps -aux\", intern = TRUE))"
   ]
  },
  {
   "cell_type": "markdown",
   "metadata": {},
   "source": [
    "Q:  How can the command above be interpreted to show how long the Jupyter system has been running?\n",
    "\n",
    "A:  The difference between the time under START for line [2] and the time under START in the last line should be the time the application has been running.  The times are UTC."
   ]
  },
  {
   "cell_type": "markdown",
   "metadata": {},
   "source": [
    "Vector length is 9.\n",
    "Vector magnitude is 14.28."
   ]
  },
  {
   "cell_type": "code",
   "execution_count": 2,
   "metadata": {
    "collapsed": true
   },
   "outputs": [
    {
     "data": {
      "text/html": [
       "9"
      ],
      "text/latex": [
       "9"
      ],
      "text/markdown": [
       "9"
      ],
      "text/plain": [
       "[1] 9"
      ]
     },
     "metadata": {},
     "output_type": "display_data"
    },
    {
     "data": {
      "text/html": [
       "14.2828568570857"
      ],
      "text/latex": [
       "14.2828568570857"
      ],
      "text/markdown": [
       "14.2828568570857"
      ],
      "text/plain": [
       "[1] 14.28286"
      ]
     },
     "metadata": {},
     "output_type": "display_data"
    }
   ],
   "source": [
    "v <- c(2, 5, 3, 6, 2, 7, 4, 5, 6)\n",
    "length(v)\n",
    "sqrt(sum(v^2))"
   ]
  },
  {
   "cell_type": "code",
   "execution_count": 3,
   "metadata": {
    "collapsed": true
   },
   "outputs": [
    {
     "data": {
      "text/html": [
       "<table>\n",
       "<tbody>\n",
       "\t<tr><td>1 </td><td> 3</td></tr>\n",
       "\t<tr><td>1 </td><td>-1</td></tr>\n",
       "</tbody>\n",
       "</table>\n"
      ],
      "text/latex": [
       "\\begin{tabular}{ll}\n",
       "\t 1  &  3\\\\\n",
       "\t 1  & -1\\\\\n",
       "\\end{tabular}\n"
      ],
      "text/markdown": [
       "\n",
       "| 1  |  3 | \n",
       "| 1  | -1 | \n",
       "\n",
       "\n"
      ],
      "text/plain": [
       "     [,1] [,2]\n",
       "[1,] 1     3  \n",
       "[2,] 1    -1  "
      ]
     },
     "metadata": {},
     "output_type": "display_data"
    },
    {
     "data": {
      "text/html": [
       "<table>\n",
       "<tbody>\n",
       "\t<tr><td>4</td></tr>\n",
       "\t<tr><td>2</td></tr>\n",
       "</tbody>\n",
       "</table>\n"
      ],
      "text/latex": [
       "\\begin{tabular}{l}\n",
       "\t 4\\\\\n",
       "\t 2\\\\\n",
       "\\end{tabular}\n"
      ],
      "text/markdown": [
       "\n",
       "| 4 | \n",
       "| 2 | \n",
       "\n",
       "\n"
      ],
      "text/plain": [
       "     [,1]\n",
       "[1,] 4   \n",
       "[2,] 2   "
      ]
     },
     "metadata": {},
     "output_type": "display_data"
    },
    {
     "data": {
      "text/html": [
       "<table>\n",
       "<tbody>\n",
       "\t<tr><td>2.5</td></tr>\n",
       "\t<tr><td>0.5</td></tr>\n",
       "</tbody>\n",
       "</table>\n"
      ],
      "text/latex": [
       "\\begin{tabular}{l}\n",
       "\t 2.5\\\\\n",
       "\t 0.5\\\\\n",
       "\\end{tabular}\n"
      ],
      "text/markdown": [
       "\n",
       "| 2.5 | \n",
       "| 0.5 | \n",
       "\n",
       "\n"
      ],
      "text/plain": [
       "     [,1]\n",
       "[1,] 2.5 \n",
       "[2,] 0.5 "
      ]
     },
     "metadata": {},
     "output_type": "display_data"
    }
   ],
   "source": [
    "A <- matrix(c(1, 1, 3, -1), 2)\n",
    "b <- matrix(c(4, 2), 2)\n",
    "A\n",
    "b\n",
    "solve(A, b)"
   ]
  },
  {
   "cell_type": "markdown",
   "metadata": {},
   "source": [
    "### Project Tree"
   ]
  },
  {
   "cell_type": "markdown",
   "metadata": {},
   "source": [
    "```\n",
    "ubuntu@ip-172-31-7-138:~$ tree\n",
    ".\n",
    "├── Final Exam\n",
    "│   ├── Data\n",
    "│   │   └── Abalone.data\n",
    "│   ├── ipynb\n",
    "│   │   ├── Abalone Data Description.ipynb\n",
    "│   │   └── Test 01 Notebook - SES.ipynb\n",
    "│   └── README.md\n",
    "│       └── README.md.ipynb\n",
    "```"
   ]
  }
 ],
 "metadata": {
  "kernelspec": {
   "display_name": "R",
   "language": "R",
   "name": "ir"
  },
  "language_info": {
   "codemirror_mode": "r",
   "file_extension": ".r",
   "mimetype": "text/x-r-source",
   "name": "R",
   "pygments_lexer": "r",
   "version": "3.3.2"
  }
 },
 "nbformat": 4,
 "nbformat_minor": 2
}
